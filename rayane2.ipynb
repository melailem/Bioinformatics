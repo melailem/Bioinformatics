{
  "nbformat": 4,
  "nbformat_minor": 0,
  "metadata": {
    "colab": {
      "name": "rayane2.ipynb",
      "provenance": [],
      "collapsed_sections": [],
      "include_colab_link": true
    },
    "kernelspec": {
      "display_name": "Python 3",
      "language": "python",
      "name": "python3"
    }
  },
  "cells": [
    {
      "cell_type": "markdown",
      "metadata": {
        "id": "view-in-github",
        "colab_type": "text"
      },
      "source": [
        "<a href=\"https://colab.research.google.com/github/melailem/Bioinformatics/blob/master/rayane2.ipynb\" target=\"_parent\"><img src=\"https://colab.research.google.com/assets/colab-badge.svg\" alt=\"Open In Colab\"/></a>"
      ]
    },
    {
      "cell_type": "markdown",
      "metadata": {
        "id": "_qDDCF1r7mTK",
        "colab_type": "text"
      },
      "source": [
        "# Arrays and graphs\n"
      ]
    },
    {
      "cell_type": "markdown",
      "metadata": {
        "id": "Fqr1mC7LIzbw",
        "colab_type": "text"
      },
      "source": [
        "## Arrays\n",
        "\n",
        "The module [numpy](https://docs.scipy.org/doc/numpy/reference/) provides everything that's needed for arrays and maths on arrays.\n",
        "\n",
        "Usually we will **not** use mathematical function from the math package that we used during the previous TP.  \n",
        "Numpy superseed them with equivalant functions that works not only on numbers but also for arrays.  "
      ]
    },
    {
      "cell_type": "code",
      "metadata": {
        "scrolled": true,
        "id": "ksCBZ4I97mTQ",
        "colab_type": "code",
        "colab": {}
      },
      "source": [
        "import numpy as np"
      ],
      "execution_count": 0,
      "outputs": []
    },
    {
      "cell_type": "markdown",
      "metadata": {
        "id": "KkqniiXb7mTb",
        "colab_type": "text"
      },
      "source": [
        "The `arange(begin, end, step)` function create an array of envenly spaced points, **excluding** the end"
      ]
    },
    {
      "cell_type": "code",
      "metadata": {
        "id": "4Uxrxxxr7mTd",
        "colab_type": "code",
        "colab": {}
      },
      "source": [
        "t = np.arange(0., 2.1, 0.1)\n",
        "print(t)"
      ],
      "execution_count": 0,
      "outputs": []
    },
    {
      "cell_type": "markdown",
      "metadata": {
        "id": "VDFHiQOc81dA",
        "colab_type": "text"
      },
      "source": [
        "Similarly there is the `linspace(begin, end, nb_points)` function if you prefer to give the number of points.  \n",
        "Be careful, in this case it's **including** the end."
      ]
    },
    {
      "cell_type": "code",
      "metadata": {
        "id": "emV7uUyp8yRR",
        "colab_type": "code",
        "colab": {}
      },
      "source": [
        "t = np.linspace(0., 2., 21)\n",
        "print(t)\n",
        "\n",
        "print(\"Numpy arrays are capable of some basic computation:\")\n",
        "print((\"{:6} = {:5.2f}\\n\" * 3).format(\"t min\", t.min(),\n",
        "                                      \"t mean\", t.mean(),\n",
        "                                      \"t max\", t.max()))\n",
        "\n",
        "print(\"Or we can use numpy's functions on those arrays (see doc):\")\n",
        "print((\"{:6} = {:5.2f}\\n\" * 3).format(\"t min\", np.min(t),\n",
        "                                      \"t mean\", np.mean(t),\n",
        "                                      \"t max\", np.max(t)))"
      ],
      "execution_count": 0,
      "outputs": []
    },
    {
      "cell_type": "markdown",
      "metadata": {
        "id": "xWWHd10I7mTo",
        "colab_type": "text"
      },
      "source": [
        "Applying the sinus function on an array will apply sinus on each element of the array"
      ]
    },
    {
      "cell_type": "code",
      "metadata": {
        "id": "WN8dV-pA7mTr",
        "colab_type": "code",
        "colab": {}
      },
      "source": [
        "s = np.sin(2 * np.pi * t) \n",
        "print(s)"
      ],
      "execution_count": 0,
      "outputs": []
    },
    {
      "cell_type": "markdown",
      "metadata": {
        "id": "MrMrE_BdzsPF",
        "colab_type": "text"
      },
      "source": [
        "The documentation of numpy online is very well written.\n",
        "\n",
        "Do not hesitate to use it !"
      ]
    },
    {
      "cell_type": "markdown",
      "metadata": {
        "id": "6KZ8XYYw7mUq",
        "colab_type": "text"
      },
      "source": [
        "### External data and simple statistics\n",
        "\n",
        "#### Saving\n",
        "\n",
        "To write arrays in a simple format you have first to compact them in a single variable says DataOut:\n",
        "```python\n",
        "DataOut = np.column_stack((x, y1, y2, y3))\n",
        "```\n",
        "\n",
        "Then data are saved on the file `myFile.txt` simply through:\n",
        "```python\n",
        "np.savetxt(\"myFile.txt\", DataOut) \n",
        "```\n",
        "\n",
        "Since we are on google colab, you may want to download this file\n",
        "```python\n",
        "from google.colab import files\n",
        "files.download('myFile.txt')\n",
        "```\n",
        "\n",
        "#### Loading\n",
        "Since we are on google colab, we first have to upload the file\n",
        "\n",
        "```python\n",
        "from google.colab import files\n",
        "uploaded = files.upload()\n",
        "```\n",
        "\n",
        "If the data are stored in a similar way, you can use \n",
        "```python\n",
        "DataIn = np.loadtxt(\"myFile.txt\") \n",
        "```\n",
        "\n",
        "An then \"unpack\" the result\n",
        "```python\n",
        "x, y1, y2, y3 = DataIn.T\n",
        "```\n",
        "Notice the transposition here ?  \n",
        "That's because python only know how to unpack lines and not columns\n"
      ]
    },
    {
      "cell_type": "markdown",
      "metadata": {
        "id": "GOZKs9_K8Pb-",
        "colab_type": "text"
      },
      "source": [
        "#### Your turn\n",
        "\n",
        "Load the content of the file `populations.txt`"
      ]
    },
    {
      "cell_type": "code",
      "metadata": {
        "id": "7DK4mWu6Iagz",
        "colab_type": "code",
        "colab": {
          "resources": {
            "http://localhost:8080/nbextensions/google.colab/files.js": {
              "data": "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",
              "ok": true,
              "headers": [
                [
                  "content-type",
                  "application/javascript"
                ]
              ],
              "status": 200,
              "status_text": ""
            }
          },
          "base_uri": "https://localhost:8080/",
          "height": 382
        },
        "outputId": "0c3c7555-c0e2-46ca-c751-43d344bfc834"
      },
      "source": [
        "import numpy as np \n",
        "from google.colab import files\n",
        "uploaded = files.upload()\n",
        "\n",
        "data = np.loadtxt('populations.txt')\n",
        "year, hares, lynxes, carrots = data.T"
      ],
      "execution_count": 2,
      "outputs": [
        {
          "output_type": "display_data",
          "data": {
            "text/html": [
              "\n",
              "     <input type=\"file\" id=\"files-bdf28154-8faa-4945-9179-7355260a47dc\" name=\"files[]\" multiple disabled />\n",
              "     <output id=\"result-bdf28154-8faa-4945-9179-7355260a47dc\">\n",
              "      Upload widget is only available when the cell has been executed in the\n",
              "      current browser session. Please rerun this cell to enable.\n",
              "      </output>\n",
              "      <script src=\"/nbextensions/google.colab/files.js\"></script> "
            ],
            "text/plain": [
              "<IPython.core.display.HTML object>"
            ]
          },
          "metadata": {
            "tags": []
          }
        },
        {
          "output_type": "error",
          "ename": "OSError",
          "evalue": "ignored",
          "traceback": [
            "\u001b[0;31m---------------------------------------------------------------------------\u001b[0m",
            "\u001b[0;31mOSError\u001b[0m                                   Traceback (most recent call last)",
            "\u001b[0;32m<ipython-input-2-4da874c1ad26>\u001b[0m in \u001b[0;36m<module>\u001b[0;34m()\u001b[0m\n\u001b[1;32m      3\u001b[0m \u001b[0muploaded\u001b[0m \u001b[0;34m=\u001b[0m \u001b[0mfiles\u001b[0m\u001b[0;34m.\u001b[0m\u001b[0mupload\u001b[0m\u001b[0;34m(\u001b[0m\u001b[0;34m)\u001b[0m\u001b[0;34m\u001b[0m\u001b[0;34m\u001b[0m\u001b[0m\n\u001b[1;32m      4\u001b[0m \u001b[0;34m\u001b[0m\u001b[0m\n\u001b[0;32m----> 5\u001b[0;31m \u001b[0mdata\u001b[0m \u001b[0;34m=\u001b[0m \u001b[0mnp\u001b[0m\u001b[0;34m.\u001b[0m\u001b[0mloadtxt\u001b[0m\u001b[0;34m(\u001b[0m\u001b[0;34m'populations.txt'\u001b[0m\u001b[0;34m)\u001b[0m\u001b[0;34m\u001b[0m\u001b[0;34m\u001b[0m\u001b[0m\n\u001b[0m\u001b[1;32m      6\u001b[0m \u001b[0myear\u001b[0m\u001b[0;34m,\u001b[0m \u001b[0mhares\u001b[0m\u001b[0;34m,\u001b[0m \u001b[0mlynxes\u001b[0m\u001b[0;34m,\u001b[0m \u001b[0mcarrots\u001b[0m \u001b[0;34m=\u001b[0m \u001b[0mdata\u001b[0m\u001b[0;34m.\u001b[0m\u001b[0mT\u001b[0m\u001b[0;34m\u001b[0m\u001b[0;34m\u001b[0m\u001b[0m\n",
            "\u001b[0;32m/usr/local/lib/python3.6/dist-packages/numpy/lib/npyio.py\u001b[0m in \u001b[0;36mloadtxt\u001b[0;34m(fname, dtype, comments, delimiter, converters, skiprows, usecols, unpack, ndmin, encoding, max_rows)\u001b[0m\n\u001b[1;32m    979\u001b[0m             \u001b[0mfname\u001b[0m \u001b[0;34m=\u001b[0m \u001b[0mos_fspath\u001b[0m\u001b[0;34m(\u001b[0m\u001b[0mfname\u001b[0m\u001b[0;34m)\u001b[0m\u001b[0;34m\u001b[0m\u001b[0;34m\u001b[0m\u001b[0m\n\u001b[1;32m    980\u001b[0m         \u001b[0;32mif\u001b[0m \u001b[0m_is_string_like\u001b[0m\u001b[0;34m(\u001b[0m\u001b[0mfname\u001b[0m\u001b[0;34m)\u001b[0m\u001b[0;34m:\u001b[0m\u001b[0;34m\u001b[0m\u001b[0;34m\u001b[0m\u001b[0m\n\u001b[0;32m--> 981\u001b[0;31m             \u001b[0mfh\u001b[0m \u001b[0;34m=\u001b[0m \u001b[0mnp\u001b[0m\u001b[0;34m.\u001b[0m\u001b[0mlib\u001b[0m\u001b[0;34m.\u001b[0m\u001b[0m_datasource\u001b[0m\u001b[0;34m.\u001b[0m\u001b[0mopen\u001b[0m\u001b[0;34m(\u001b[0m\u001b[0mfname\u001b[0m\u001b[0;34m,\u001b[0m \u001b[0;34m'rt'\u001b[0m\u001b[0;34m,\u001b[0m \u001b[0mencoding\u001b[0m\u001b[0;34m=\u001b[0m\u001b[0mencoding\u001b[0m\u001b[0;34m)\u001b[0m\u001b[0;34m\u001b[0m\u001b[0;34m\u001b[0m\u001b[0m\n\u001b[0m\u001b[1;32m    982\u001b[0m             \u001b[0mfencoding\u001b[0m \u001b[0;34m=\u001b[0m \u001b[0mgetattr\u001b[0m\u001b[0;34m(\u001b[0m\u001b[0mfh\u001b[0m\u001b[0;34m,\u001b[0m \u001b[0;34m'encoding'\u001b[0m\u001b[0;34m,\u001b[0m \u001b[0;34m'latin1'\u001b[0m\u001b[0;34m)\u001b[0m\u001b[0;34m\u001b[0m\u001b[0;34m\u001b[0m\u001b[0m\n\u001b[1;32m    983\u001b[0m             \u001b[0mfh\u001b[0m \u001b[0;34m=\u001b[0m \u001b[0miter\u001b[0m\u001b[0;34m(\u001b[0m\u001b[0mfh\u001b[0m\u001b[0;34m)\u001b[0m\u001b[0;34m\u001b[0m\u001b[0;34m\u001b[0m\u001b[0m\n",
            "\u001b[0;32m/usr/local/lib/python3.6/dist-packages/numpy/lib/_datasource.py\u001b[0m in \u001b[0;36mopen\u001b[0;34m(path, mode, destpath, encoding, newline)\u001b[0m\n\u001b[1;32m    267\u001b[0m \u001b[0;34m\u001b[0m\u001b[0m\n\u001b[1;32m    268\u001b[0m     \u001b[0mds\u001b[0m \u001b[0;34m=\u001b[0m \u001b[0mDataSource\u001b[0m\u001b[0;34m(\u001b[0m\u001b[0mdestpath\u001b[0m\u001b[0;34m)\u001b[0m\u001b[0;34m\u001b[0m\u001b[0;34m\u001b[0m\u001b[0m\n\u001b[0;32m--> 269\u001b[0;31m     \u001b[0;32mreturn\u001b[0m \u001b[0mds\u001b[0m\u001b[0;34m.\u001b[0m\u001b[0mopen\u001b[0m\u001b[0;34m(\u001b[0m\u001b[0mpath\u001b[0m\u001b[0;34m,\u001b[0m \u001b[0mmode\u001b[0m\u001b[0;34m,\u001b[0m \u001b[0mencoding\u001b[0m\u001b[0;34m=\u001b[0m\u001b[0mencoding\u001b[0m\u001b[0;34m,\u001b[0m \u001b[0mnewline\u001b[0m\u001b[0;34m=\u001b[0m\u001b[0mnewline\u001b[0m\u001b[0;34m)\u001b[0m\u001b[0;34m\u001b[0m\u001b[0;34m\u001b[0m\u001b[0m\n\u001b[0m\u001b[1;32m    270\u001b[0m \u001b[0;34m\u001b[0m\u001b[0m\n\u001b[1;32m    271\u001b[0m \u001b[0;34m\u001b[0m\u001b[0m\n",
            "\u001b[0;32m/usr/local/lib/python3.6/dist-packages/numpy/lib/_datasource.py\u001b[0m in \u001b[0;36mopen\u001b[0;34m(self, path, mode, encoding, newline)\u001b[0m\n\u001b[1;32m    621\u001b[0m                                       encoding=encoding, newline=newline)\n\u001b[1;32m    622\u001b[0m         \u001b[0;32melse\u001b[0m\u001b[0;34m:\u001b[0m\u001b[0;34m\u001b[0m\u001b[0;34m\u001b[0m\u001b[0m\n\u001b[0;32m--> 623\u001b[0;31m             \u001b[0;32mraise\u001b[0m \u001b[0mIOError\u001b[0m\u001b[0;34m(\u001b[0m\u001b[0;34m\"%s not found.\"\u001b[0m \u001b[0;34m%\u001b[0m \u001b[0mpath\u001b[0m\u001b[0;34m)\u001b[0m\u001b[0;34m\u001b[0m\u001b[0;34m\u001b[0m\u001b[0m\n\u001b[0m\u001b[1;32m    624\u001b[0m \u001b[0;34m\u001b[0m\u001b[0m\n\u001b[1;32m    625\u001b[0m \u001b[0;34m\u001b[0m\u001b[0m\n",
            "\u001b[0;31mOSError\u001b[0m: populations.txt not found."
          ]
        }
      ]
    },
    {
      "cell_type": "markdown",
      "metadata": {
        "id": "YGvd-BKvF3Bv",
        "colab_type": "text"
      },
      "source": [
        "\n",
        "Compute for each species\n",
        " * the mean population\n",
        " * the standard deviation"
      ]
    },
    {
      "cell_type": "code",
      "metadata": {
        "id": "0Pig9XxxF3NI",
        "colab_type": "code",
        "colab": {}
      },
      "source": [
        ""
      ],
      "execution_count": 0,
      "outputs": []
    },
    {
      "cell_type": "markdown",
      "metadata": {
        "id": "kzSRZsBAGoys",
        "colab_type": "text"
      },
      "source": [
        "\n",
        " * The year when each species had it's maximum of population\n"
      ]
    },
    {
      "cell_type": "code",
      "metadata": {
        "id": "p3eCUkNQGo45",
        "colab_type": "code",
        "colab": {}
      },
      "source": [
        ""
      ],
      "execution_count": 0,
      "outputs": []
    },
    {
      "cell_type": "markdown",
      "metadata": {
        "id": "gyHMdscpGwFT",
        "colab_type": "text"
      },
      "source": [
        "\n",
        " * The two years when each species had it's minimum of population"
      ]
    },
    {
      "cell_type": "code",
      "metadata": {
        "id": "UTSXTd4uGwKt",
        "colab_type": "code",
        "colab": {}
      },
      "source": [
        ""
      ],
      "execution_count": 0,
      "outputs": []
    },
    {
      "cell_type": "markdown",
      "metadata": {
        "id": "Wrf49X43JSTJ",
        "colab_type": "text"
      },
      "source": [
        "### Your first algorthm \n",
        "\n",
        "We will here implement a classic algortith to sort data : **bubble sort**\n",
        "\n",
        "![Texte alternatif…](https://upload.wikimedia.org/wikipedia/commons/3/37/Bubble_sort_animation.gif)\n",
        "\n",
        "The idea here is to go through the list comparing each consecutive pair of elements. If two element are not in the right order, they are swapped.\n",
        "\n",
        "![Texte alternatif…](https://upload.wikimedia.org/wikipedia/commons/c/c8/Bubble-sort-example-300px.gif)\n",
        "\n",
        "Once the list has been parsed, we start from the beginning again until no more swapping are necessary.\n",
        "\n",
        "The algorithm can be described like that:\n",
        "\n",
        "![Texte alternatif…](https://www.researchgate.net/publication/303337342/figure/fig7/AS:372605338046474@1465847443705/Sample-flowchart-for-a-sorting-algorithm-This-flowchart-illustrates-the-conditional.png =400x)\n",
        "\n",
        "Write a function `swap(mylist, i, j)` that swap the element in i and the element in j"
      ]
    },
    {
      "cell_type": "code",
      "metadata": {
        "id": "mJAGTesoJPoR",
        "colab_type": "code",
        "colab": {}
      },
      "source": [
        ""
      ],
      "execution_count": 0,
      "outputs": []
    },
    {
      "cell_type": "markdown",
      "metadata": {
        "id": "eykWBzCNs5N9",
        "colab_type": "text"
      },
      "source": [
        "Yon can test your function here:"
      ]
    },
    {
      "cell_type": "code",
      "metadata": {
        "id": "JMSnonl_s5S4",
        "colab_type": "code",
        "colab": {}
      },
      "source": [
        "test = [2, 1, 3, 4]\n",
        "swap(test, 0, 1)\n",
        "print(test)\n",
        "\n",
        "test = [3, 2, 1, 4]\n",
        "swap(test, 0, 2)\n",
        "print(test)\n",
        "\n",
        "test = [2, 1, 3, 4]\n",
        "swap(test, 1, 0)\n",
        "print(test)"
      ],
      "execution_count": 0,
      "outputs": []
    },
    {
      "cell_type": "markdown",
      "metadata": {
        "id": "WF1p-IOjtjyZ",
        "colab_type": "text"
      },
      "source": [
        "Now write a function `compare(mylist, i, j)` that compare the element in i and the element in j and, if `mylist[i]` is bigger than `mylist[j]` , call the previous function to swap them "
      ]
    },
    {
      "cell_type": "code",
      "metadata": {
        "id": "EM7gGHfytkA8",
        "colab_type": "code",
        "colab": {}
      },
      "source": [
        ""
      ],
      "execution_count": 0,
      "outputs": []
    },
    {
      "cell_type": "markdown",
      "metadata": {
        "id": "6wDlxNvGt5bp",
        "colab_type": "text"
      },
      "source": [
        "Yon can test your function here:"
      ]
    },
    {
      "cell_type": "code",
      "metadata": {
        "id": "Ij1GS0tXt5h7",
        "colab_type": "code",
        "colab": {}
      },
      "source": [
        "test = [2, 1, 3, 4]\n",
        "compare(test, 2, 3)\n",
        "print(test)\n",
        "compare(test, 0, 1)\n",
        "print(test)\n",
        "compare(test, 2, 0)\n",
        "print(test)"
      ],
      "execution_count": 0,
      "outputs": []
    },
    {
      "cell_type": "markdown",
      "metadata": {
        "id": "tWNYz3Ohv-M2",
        "colab_type": "text"
      },
      "source": [
        "You can now write a function `one_pass(mylist)`  that goes through the list one time, making all the consecutive pairwise comparisons"
      ]
    },
    {
      "cell_type": "code",
      "metadata": {
        "id": "oqzMAUlkv-kT",
        "colab_type": "code",
        "colab": {}
      },
      "source": [
        ""
      ],
      "execution_count": 0,
      "outputs": []
    },
    {
      "cell_type": "markdown",
      "metadata": {
        "id": "QpnckVibwYhi",
        "colab_type": "text"
      },
      "source": [
        "Yon can test your function here:"
      ]
    },
    {
      "cell_type": "code",
      "metadata": {
        "id": "Ri5dSZ8jwYsm",
        "colab_type": "code",
        "colab": {}
      },
      "source": [
        "test = [2, 1, 3, 4]\n",
        "one_pass(test)\n",
        "print(test)\n",
        "\n",
        "test = [4, 1, 2, 3]\n",
        "one_pass(test)\n",
        "print(test)\n",
        "\n",
        "test = [2, 1, 4, 3]\n",
        "one_pass(test)\n",
        "print(test)\n",
        "\n",
        "test = [1, 1, 2, 3]\n",
        "one_pass(test)\n",
        "print(test)\n",
        "\n",
        "test = [2, 3, 4, 1]\n",
        "one_pass(test)\n",
        "print(test)"
      ],
      "execution_count": 0,
      "outputs": []
    },
    {
      "cell_type": "markdown",
      "metadata": {
        "id": "yl0O_8GexBCX",
        "colab_type": "text"
      },
      "source": [
        "Finally, you can write the `bubble_sort(mylist)` function that will call the previous function repeatedly until the list is sorted.\n",
        "\n",
        "In order to keep thing simple, one can remark that we have at most `n = len(mylist)` pass to do.  \n",
        "So that what you'll do, without checking if the list has been sorted already"
      ]
    },
    {
      "cell_type": "code",
      "metadata": {
        "id": "MXcVYKrJxBS1",
        "colab_type": "code",
        "colab": {}
      },
      "source": [
        ""
      ],
      "execution_count": 0,
      "outputs": []
    },
    {
      "cell_type": "markdown",
      "metadata": {
        "id": "mtcLJ_grMHuU",
        "colab_type": "text"
      },
      "source": [
        "Execute the following cell mutliple time in order to check that your sorting implementation is working"
      ]
    },
    {
      "cell_type": "code",
      "metadata": {
        "id": "Pt-95XlAMH5_",
        "colab_type": "code",
        "colab": {}
      },
      "source": [
        "n = np.random.randint(50)\n",
        "random_list = np.random.randint(50, size=50)\n",
        "print(\"start: \",random_list)\n",
        "\n",
        "sorted_list = np.sort(random_list)\n",
        "print(\"solution:\", sorted_list)\n",
        "\n",
        "bubble_sort(random_list)\n",
        "print(\"your result: \"random_list)"
      ],
      "execution_count": 0,
      "outputs": []
    },
    {
      "cell_type": "markdown",
      "metadata": {
        "id": "bF9w8mjh0NIu",
        "colab_type": "text"
      },
      "source": [
        "Have you notice how we split up the problem in very small pieces, each of them beeing rather simple?\n",
        "\n",
        "Divide and conquer starategy are very well suited for programming."
      ]
    },
    {
      "cell_type": "markdown",
      "metadata": {
        "id": "HwDOS1OWIJ9K",
        "colab_type": "text"
      },
      "source": [
        "\n",
        "## Graphs\n",
        "\n",
        "The module [matplotlib](https://matplotlib.org/gallery/index.html) provides everything that's needed for plotting any kind of graphs :"
      ]
    },
    {
      "cell_type": "markdown",
      "metadata": {
        "id": "tMaZ19Jg7mTy",
        "colab_type": "text"
      },
      "source": [
        "\n",
        "### Demo\n"
      ]
    },
    {
      "cell_type": "code",
      "metadata": {
        "id": "wNpVDzMT7mT0",
        "colab_type": "code",
        "colab": {}
      },
      "source": [
        "t = np.linspace(0., 2., 21)\n",
        "s = np.sin(2 * np.pi * t) \n",
        "\n",
        "import matplotlib.pyplot as plt\n",
        "\n",
        "plt.figure(\"My first Figure\")\n",
        "plt.plot(t, s) \n",
        "plt.xlabel('time (s)') \n",
        "plt.ylabel('voltage (mV)') \n",
        "plt.title('About as simple as it gets, folks') \n",
        "plt.grid(True) \n",
        "plt.show() "
      ],
      "execution_count": 0,
      "outputs": []
    },
    {
      "cell_type": "markdown",
      "metadata": {
        "id": "LwwB1juz-509",
        "colab_type": "text"
      },
      "source": [
        "As you can see matplotlib do stuff behind the scene.  \n",
        "We did not had to create a variable to store the current figure and act on it.  \n",
        "When we say `plt.plot` it understand directly that we want to plot on the last openned figure.  \n",
        "\n",
        "Warning, the order of the points is important is order to draw a line:"
      ]
    },
    {
      "cell_type": "code",
      "metadata": {
        "id": "EdD7_0Q5Axzh",
        "colab_type": "code",
        "colab": {}
      },
      "source": [
        "t2 = np.random.permutation(t)\n",
        "s2 = np.sin(2 * np.pi * t2) \n",
        "\n",
        "plt.figure(\"My second Figure\")\n",
        "plt.plot(t, s, 'g', label='points are in order') \n",
        "plt.plot(t2, s2, label='randomly shuffled points') \n",
        "plt.xlabel('time (s)') \n",
        "plt.ylabel('voltage (mV)') \n",
        "plt.title('Everything looks garbage now') \n",
        "plt.grid(True) \n",
        "plt.legend()\n",
        "plt.show() "
      ],
      "execution_count": 0,
      "outputs": []
    },
    {
      "cell_type": "markdown",
      "metadata": {
        "id": "AX21Nkqe7mT6",
        "colab_type": "text"
      },
      "source": [
        "There is too much to say on matplotlib to devellop here.  \n",
        "The documentation is not very clear, but the [exemples](https://matplotlib.org/gallery/index.html) are.  \n",
        "Moreover, internet is full of help on this topic.\n",
        "\n",
        "#### All your plots must contains all those informations\n",
        "- Title of graph  \n",
        "- Titles on axis  \n",
        "- Grid  \n",
        "- Legend (if multiple plot)  \n",
        "<span style=\"font-size:xx-large;\">\n",
        "    <center>\n",
        "        I will give you penalties if you don't !\n",
        "    </center>\n",
        "</span>\n",
        "</div>\n"
      ]
    },
    {
      "cell_type": "markdown",
      "metadata": {
        "id": "17N0EVQNH_3Q",
        "colab_type": "text"
      },
      "source": [
        "\n",
        "### Your turn\n",
        "\n",
        "Create a function `f(x, λ)` that compute (use the return statement):\n",
        "$$ f(x) = x^2 \\sin\\left(\\frac{2 \\pi x}{\\lambda}\\right) $$"
      ]
    },
    {
      "cell_type": "code",
      "metadata": {
        "id": "ShmZ6qd57mUI",
        "colab_type": "code",
        "colab": {}
      },
      "source": [
        ""
      ],
      "execution_count": 0,
      "outputs": []
    },
    {
      "cell_type": "markdown",
      "metadata": {
        "id": "rw6_pc6b7mUP",
        "colab_type": "text"
      },
      "source": [
        "Create a array `x` with `100` points evenly distributed from $-1$ to $1$ (both included)  "
      ]
    },
    {
      "cell_type": "code",
      "metadata": {
        "id": "gBzizZVH7mUS",
        "colab_type": "code",
        "colab": {}
      },
      "source": [
        ""
      ],
      "execution_count": 0,
      "outputs": []
    },
    {
      "cell_type": "markdown",
      "metadata": {
        "id": "XqqL-l1c7mUa",
        "colab_type": "text"
      },
      "source": [
        "Compute\n",
        "- $ y_1 = f(x, \\lambda) $ with $ \\lambda = 0.3$\n",
        "- $ y_2 = f(x, \\lambda) $ with $ \\lambda = 0.4$\n",
        "- $ y_3 = f(x, \\lambda) $ with $ \\lambda = 0.5$"
      ]
    },
    {
      "cell_type": "code",
      "metadata": {
        "id": "Z-Owi61X7mUg",
        "colab_type": "code",
        "colab": {}
      },
      "source": [
        ""
      ],
      "execution_count": 0,
      "outputs": []
    },
    {
      "cell_type": "markdown",
      "metadata": {
        "id": "quoXI8-27mUl",
        "colab_type": "text"
      },
      "source": [
        "Plot them in the same graph  \n",
        "$y_2$ should be present with a red solid line  \n",
        "$y_3$ should be present with a green dashed line"
      ]
    },
    {
      "cell_type": "code",
      "metadata": {
        "id": "Bo78ydWN7mUn",
        "colab_type": "code",
        "colab": {}
      },
      "source": [
        ""
      ],
      "execution_count": 0,
      "outputs": []
    },
    {
      "cell_type": "markdown",
      "metadata": {
        "id": "-O8yVbvzNNzo",
        "colab_type": "text"
      },
      "source": [
        "\n",
        "To save an image from a script, you can use:\n",
        "```python\n",
        "plt.savefig(\"monImage.png\")\n",
        "```\n",
        "\n",
        "But again, since we are on google colab, If you want to download this file\n",
        "```python\n",
        "from google.colab import files\n",
        "files.download('monImage.png')\n",
        "```"
      ]
    },
    {
      "cell_type": "markdown",
      "metadata": {
        "id": "g7j1tlgh7mU7",
        "colab_type": "text"
      },
      "source": [
        "# Do not forget\n",
        "\n",
        "Before sending this notebook to me, **restart the kernel, and reexecute all the cells in order.**\n",
        "\n",
        "Once all cells have been filled and executed,\n",
        " * **save this document as a pdf file** (by printing it)  \n",
        " * **Check** that everything is present on the produced pdf  \n",
        " * **Send the pdf AND the notebook** to me via Universitice  \n",
        "\n",
        "This will be used to evaluate you.\n",
        "\n",
        "# That's it for today !"
      ]
    },
    {
      "cell_type": "markdown",
      "metadata": {
        "id": "wfgVrjgE-cFT",
        "colab_type": "text"
      },
      "source": [
        "Write here an rough estimation of the time you spent on this TP.  \n",
        "This will **not** be used to evaluate you,  \n",
        "but to will allow me to better adjust the complexities of the TP.\n",
        "\n",
        "Time spent: *h"
      ]
    },
    {
      "cell_type": "code",
      "metadata": {
        "id": "92wxd28M-jW7",
        "colab_type": "code",
        "colab": {}
      },
      "source": [
        ""
      ],
      "execution_count": 0,
      "outputs": []
    }
  ]
}